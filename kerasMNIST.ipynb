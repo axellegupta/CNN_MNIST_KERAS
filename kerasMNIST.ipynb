{
 "cells": [
  {
   "cell_type": "code",
   "execution_count": 50,
   "metadata": {},
   "outputs": [
    {
     "name": "stdout",
     "output_type": "stream",
     "text": [
      "(60000, 28, 28)\n"
     ]
    }
   ],
   "source": [
    "import sys\n",
    "\n",
    "req_link = '/usr/local/lib/python2.7/site-packages/'\n",
    "sys.path.append(req_link)\n",
    "\n",
    "from keras import backend as K\n",
    "K.set_image_dim_ordering('th')\n",
    "\n",
    "import numpy as np\n",
    "np.random.seed(123)  # for reproducibility\n",
    "\n",
    "from keras.models import Sequential\n",
    "from keras.layers import Dense, Dropout, Activation, Flatten\n",
    "from keras.layers import Conv2D, MaxPooling2D\n",
    "from keras.utils import np_utils\n",
    "from keras.datasets import mnist\n",
    "from keras.models import model_from_json\n",
    "import glob\n",
    "import cv2\n",
    "from keras.preprocessing.image import ImageDataGenerator\n",
    "import matplotlib.pyplot as plt\n",
    "import matplotlib\n",
    "import brewer2mpl\n",
    "import pandas as pd\n",
    "\n",
    "set3 = brewer2mpl.get_map('Set3', 'qualitative', 6).mpl_colors\n",
    "%matplotlib inline\n",
    "\n",
    "# 1. Load pre-shuffled MNIST data into train and test sets\n",
    "(X_train, y_train), (X_test, y_test) = mnist.load_data()\n",
    "print (X_train.shape)\n",
    "\n",
    "# 2. Preprocess input data\n",
    "X_train = X_train.reshape(X_train.shape[0], 1, 28, 28)\n",
    "X_test = X_test.reshape(X_test.shape[0], 1, 28, 28)\n",
    "X_train = X_train.astype('float32')\n",
    "X_test = X_test.astype('float32')\n",
    "X_train /= 255\n",
    "X_test /= 255\n",
    "\n",
    "# 3. Preprocess class labels\n",
    "Y_train = np_utils.to_categorical(y_train, 10)\n",
    "Y_test = np_utils.to_categorical(y_test, 10)\n",
    "    \n",
    "def train_model():\n",
    "\n",
    "    # 4. Define model architecture\n",
    "    model = Sequential()\n",
    "\n",
    "    model.add(Conv2D(32, (3, 3), activation='relu', input_shape=(1,28,28)))\n",
    "    model.add(Conv2D(32, (3, 3), activation='relu'))\n",
    "    model.add(MaxPooling2D(pool_size=(2,2)))\n",
    "    model.add(Dropout(0.25))\n",
    "\n",
    "    model.add(Flatten())\n",
    "    model.add(Dense(128, activation='relu'))\n",
    "    model.add(Dropout(0.5))\n",
    "    model.add(Dense(10, activation='softmax'))\n",
    "\n",
    "    # 5. Compile model\n",
    "    model.compile(loss='categorical_crossentropy',\n",
    "                  optimizer='adam',\n",
    "                  metrics=['accuracy'])\n",
    "\n",
    "    # 6. Fit model on training data\n",
    "    model.fit(X_train, Y_train, \n",
    "              batch_size=32, epochs=10, verbose=1)\n",
    "\n",
    "    # 7. serialize model to JSON\n",
    "    model_json = model.to_json()\n",
    "    with open(\"model.json\", \"w\") as json_file:\n",
    "        json_file.write(model_json)\n",
    "\n",
    "    # 8. serialize weights to HDF5\n",
    "    model.save_weights(\"model.h5\", overwrite=True)\n",
    "    print(\"Saved model to disk\")\n",
    "    print (\"hi\")\n",
    "    return model"
   ]
  },
  {
   "cell_type": "code",
   "execution_count": 51,
   "metadata": {
    "scrolled": true
   },
   "outputs": [],
   "source": [
    "def load_model(X_test, Y_test):\n",
    "    # 9. load json and create model\n",
    "    json_file = open('model.json', 'r')\n",
    "    loadmodel = json_file.read()\n",
    "    json_file.close()\n",
    "    model = model_from_json(loadmodel)\n",
    "\n",
    "    # 10. load weights into new model\n",
    "    model.load_weights(\"model.h5\")\n",
    "    print(\"Loaded model from disk\") \n",
    "\n",
    "    # 11. Compile model\n",
    "    model.compile(loss='categorical_crossentropy',\n",
    "                  optimizer='adam',\n",
    "                  metrics=['accuracy'])\n",
    "\n",
    "    print(\"Compiled loaded model\") \n",
    "    \n",
    "    # 11. Evaluate model on test data\n",
    "    score = model.evaluate(X_test, Y_test, verbose=0)\n",
    "    print score\n",
    "    print('Test loss:', score[0])\n",
    "    print('Test accuracy:', score[1])\n",
    "    return model"
   ]
  },
  {
   "cell_type": "code",
   "execution_count": 52,
   "metadata": {},
   "outputs": [],
   "source": [
    "# 12. predict\n",
    "\n",
    "def processImage(path):\n",
    "    x = cv2.imread(path)\n",
    "    x = cv2.resize(x,(28, 28))\n",
    "    x = cv2.cvtColor(x, cv2.COLOR_BGR2GRAY)\n",
    "    x = x.reshape(1, 1, 28, 28)\n",
    "    x = x.astype('float32')\n",
    "    x /= 255\n",
    "    return x\n",
    "\n",
    "\n",
    "def getLabel(label):\n",
    "    \n",
    "    pattern = ([0]*label)+[1]+([0]*(9-label))\n",
    "    print pattern\n",
    "    label = np.array(pattern) \n",
    "    \n",
    "    label = label.reshape(1, 10)\n",
    "    return label\n",
    "\n",
    "def predict(image, label, model):\n",
    "    \n",
    "    label = getLabel(label)\n",
    "    \n",
    "    score = model.evaluate(image, label, verbose=0)\n",
    "    pred_array = model.predict(image)\n",
    "    pred_class = model.predict_classes(image)\n",
    "\n",
    "    prediction = (score, pred_array, pred_class)\n",
    "    \n",
    "    return prediction\n",
    "\n",
    "def select(number):\n",
    "    try:\n",
    "        x = processImage(str(number)+\".png\")\n",
    "    except:\n",
    "        x = processImage(str(number)+\".jpeg\")\n",
    "    return x"
   ]
  },
  {
   "cell_type": "code",
   "execution_count": 53,
   "metadata": {},
   "outputs": [
    {
     "name": "stdout",
     "output_type": "stream",
     "text": [
      "Loaded model from disk\n",
      "Compiled loaded model\n",
      "[0.027639551383534036, 0.99209999999999998]\n",
      "('Test loss:', 0.027639551383534036)\n",
      "('Test accuracy:', 0.99209999999999998)\n"
     ]
    }
   ],
   "source": [
    "from pprint import pprint\n",
    "model = load_model(X_test, Y_test)"
   ]
  },
  {
   "cell_type": "code",
   "execution_count": 54,
   "metadata": {},
   "outputs": [
    {
     "name": "stdout",
     "output_type": "stream",
     "text": [
      "[0, 0, 0, 0, 0, 0, 1, 0, 0, 0]\n",
      "([0.25391355156898499, 1.0],\n",
      " array([[  1.72687009e-01,   2.10482700e-04,   1.10050347e-02,\n",
      "          3.74921062e-03,   1.04158198e-05,   2.71610711e-02,\n",
      "          7.75758862e-01,   8.58668227e-06,   9.15566180e-03,\n",
      "          2.53619597e-04]], dtype=float32),\n",
      " array([6]))\n"
     ]
    }
   ],
   "source": [
    "pprint (predict(select(\"six\"), 6, model))"
   ]
  },
  {
   "cell_type": "code",
   "execution_count": 55,
   "metadata": {},
   "outputs": [],
   "source": [
    "def overview(start, end, X):\n",
    "    fig = plt.figure(figsize=(8,10))\n",
    "    for i in range(start, end+1):\n",
    "        print(i)\n",
    "        input_img = X[i:(i+1),:,:,:]\n",
    "        ax = fig.add_subplot(16,12,i+1)\n",
    "        ax.imshow(input_img[0,0,:,:], cmap=matplotlib.cm.gray)\n",
    "        plt.xticks(np.array([]))\n",
    "        plt.yticks(np.array([]))\n",
    "        plt.tight_layout()\n",
    "    plt.show()"
   ]
  },
  {
   "cell_type": "code",
   "execution_count": 56,
   "metadata": {},
   "outputs": [
    {
     "name": "stdout",
     "output_type": "stream",
     "text": [
      "0\n",
      "1\n",
      "2\n",
      "3\n",
      "4\n",
      "5\n",
      "6\n",
      "7\n",
      "8\n",
      "9\n",
      "10\n"
     ]
    },
    {
     "data": {
      "image/png": "[encoded data removed]",
      "text/plain": [
       "<matplotlib.figure.Figure at 0x126501550>"
      ]
     },
     "metadata": {},
     "output_type": "display_data"
    }
   ],
   "source": [
    "overview(0,10, X_test)"
   ]
  },
  {
   "cell_type": "code",
   "execution_count": 208,
   "metadata": {},
   "outputs": [],
   "source": [
    "def plot_filters(layer, x, y):\n",
    "    filters = layer.kernel.get_value()\n",
    "    fig = plt.figure(figsize=(8, 4))\n",
    "    for j in range(len(filters)):\n",
    "        ax = fig.add_subplot(y, x, j+1)\n",
    "        ax.matshow(filters[j][0], cmap = matplotlib.cm.Blues)\n",
    "        plt.xticks(np.array([]))\n",
    "        plt.yticks(np.array([]))\n",
    "    plt.tight_layout()\n",
    "    return plt"
   ]
  },
  {
   "cell_type": "code",
   "execution_count": 209,
   "metadata": {},
   "outputs": [
    {
     "ename": "TypeError",
     "evalue": "'Variable' object is not callable",
     "output_type": "error",
     "traceback": [
      "\u001b[0;31m---------------------------------------------------------------------------\u001b[0m",
      "\u001b[0;31mTypeError\u001b[0m                                 Traceback (most recent call last)",
      "\u001b[0;32m<ipython-input-209-f678a08b3fc2>\u001b[0m in \u001b[0;36m<module>\u001b[0;34m()\u001b[0m\n\u001b[0;32m----> 1\u001b[0;31m \u001b[0mplot_filters\u001b[0m\u001b[0;34m(\u001b[0m\u001b[0mmodel\u001b[0m\u001b[0;34m.\u001b[0m\u001b[0mlayers\u001b[0m\u001b[0;34m[\u001b[0m\u001b[0;36m1\u001b[0m\u001b[0;34m]\u001b[0m\u001b[0;34m,\u001b[0m \u001b[0;36m8\u001b[0m\u001b[0;34m,\u001b[0m \u001b[0;36m4\u001b[0m\u001b[0;34m)\u001b[0m\u001b[0;34m\u001b[0m\u001b[0m\n\u001b[0m",
      "\u001b[0;32m<ipython-input-208-4aa3a457b90e>\u001b[0m in \u001b[0;36mplot_filters\u001b[0;34m(layer, x, y)\u001b[0m\n\u001b[1;32m      1\u001b[0m \u001b[0;32mdef\u001b[0m \u001b[0mplot_filters\u001b[0m\u001b[0;34m(\u001b[0m\u001b[0mlayer\u001b[0m\u001b[0;34m,\u001b[0m \u001b[0mx\u001b[0m\u001b[0;34m,\u001b[0m \u001b[0my\u001b[0m\u001b[0;34m)\u001b[0m\u001b[0;34m:\u001b[0m\u001b[0;34m\u001b[0m\u001b[0m\n\u001b[0;32m----> 2\u001b[0;31m     \u001b[0mfilters\u001b[0m \u001b[0;34m=\u001b[0m \u001b[0mlayer\u001b[0m\u001b[0;34m.\u001b[0m\u001b[0mkernel\u001b[0m\u001b[0;34m(\u001b[0m\u001b[0;34m)\u001b[0m\u001b[0;34m.\u001b[0m\u001b[0mget_value\u001b[0m\u001b[0;34m(\u001b[0m\u001b[0;34m)\u001b[0m\u001b[0;34m\u001b[0m\u001b[0m\n\u001b[0m\u001b[1;32m      3\u001b[0m     \u001b[0mfig\u001b[0m \u001b[0;34m=\u001b[0m \u001b[0mplt\u001b[0m\u001b[0;34m.\u001b[0m\u001b[0mfigure\u001b[0m\u001b[0;34m(\u001b[0m\u001b[0mfigsize\u001b[0m\u001b[0;34m=\u001b[0m\u001b[0;34m(\u001b[0m\u001b[0;36m8\u001b[0m\u001b[0;34m,\u001b[0m \u001b[0;36m4\u001b[0m\u001b[0;34m)\u001b[0m\u001b[0;34m)\u001b[0m\u001b[0;34m\u001b[0m\u001b[0m\n\u001b[1;32m      4\u001b[0m     \u001b[0;32mfor\u001b[0m \u001b[0mj\u001b[0m \u001b[0;32min\u001b[0m \u001b[0mrange\u001b[0m\u001b[0;34m(\u001b[0m\u001b[0mlen\u001b[0m\u001b[0;34m(\u001b[0m\u001b[0mfilters\u001b[0m\u001b[0;34m)\u001b[0m\u001b[0;34m)\u001b[0m\u001b[0;34m:\u001b[0m\u001b[0;34m\u001b[0m\u001b[0m\n\u001b[1;32m      5\u001b[0m         \u001b[0max\u001b[0m \u001b[0;34m=\u001b[0m \u001b[0mfig\u001b[0m\u001b[0;34m.\u001b[0m\u001b[0madd_subplot\u001b[0m\u001b[0;34m(\u001b[0m\u001b[0my\u001b[0m\u001b[0;34m,\u001b[0m \u001b[0mx\u001b[0m\u001b[0;34m,\u001b[0m \u001b[0mj\u001b[0m\u001b[0;34m+\u001b[0m\u001b[0;36m1\u001b[0m\u001b[0;34m)\u001b[0m\u001b[0;34m\u001b[0m\u001b[0m\n",
      "\u001b[0;31mTypeError\u001b[0m: 'Variable' object is not callable"
     ]
    }
   ],
   "source": [
    "# plot_filters(model.layers[1], 8, 4)"
   ]
  },
  {
   "cell_type": "code",
   "execution_count": 204,
   "metadata": {},
   "outputs": [
    {
     "name": "stdout",
     "output_type": "stream",
     "text": [
      "(1, 1, 28, 28)\n"
     ]
    },
    {
     "data": {
      "text/plain": [
       "<matplotlib.image.AxesImage at 0x13952ff90>"
      ]
     },
     "execution_count": 204,
     "metadata": {},
     "output_type": "execute_result"
    },
    {
     "data": {
      "image/png": "[encoded data removed]",
      "text/plain": [
       "<matplotlib.figure.Figure at 0x13339cfd0>"
      ]
     },
     "metadata": {},
     "output_type": "display_data"
    }
   ],
   "source": [
    "input_img = X_test[0:1,0:1,0:28,0:28] # subject0\n",
    "print input_img.shape\n",
    "plt.imshow(input_img[0,0,:,:], cmap='gray')"
   ]
  },
  {
   "cell_type": "code",
   "execution_count": 148,
   "metadata": {},
   "outputs": [],
   "source": [
    "from sklearn.metrics import confusion_matrix\n",
    "\n",
    "y_prob = model.predict(X_test, batch_size=32, verbose=0)\n",
    "y_true =[np.argmax(prob) for prob in y_prob]\n",
    "y_pred= [np.argmax(prob) for prob in y_test]"
   ]
  },
  {
   "cell_type": "code",
   "execution_count": 171,
   "metadata": {},
   "outputs": [
    {
     "name": "stdout",
     "output_type": "stream",
     "text": [
      "[0, 0, 0, 1, 0, 0, 0, 0, 0, 0]\n",
      "float division by zero\n"
     ]
    }
   ],
   "source": [
    "def class_precision(y_true, y_pred, emotion):\n",
    "    cm = confusion_matrix(y_true, y_pred)\n",
    "    i = [i for i, label in enumerate(y_test) if label == emotion.all()][0]\n",
    "    col = [cm[j,i] for j in range(0,9)]\n",
    "#     print col\n",
    "    try:\n",
    "        return float(col[i])/sum(col)\n",
    "    except Exception as e:\n",
    "        return e\n",
    "\n",
    "def class_recall(y_true, y_pred, emotion):\n",
    "    cm = confusion_matrix(y_true, y_pred)\n",
    "    i = [i for i, label in enumerate(y_test) if label == emotion.all()][0]\n",
    "    row = [cm[i,j] for j in range(0,9)]\n",
    "#     print row\n",
    "    return float(row[i])/sum(row)\n",
    "\n",
    "def class_accuracy(y_true, y_pred, emotion):\n",
    "    cm = confusion_matrix(y_true, y_pred)\n",
    "    i = [i for i, label in enumerate(y_test) if label == emotion.all()][0]\n",
    "    tp = cm[i,i]\n",
    "    fn = sum([cm[i,j] for j in range(0,9) if j != i])\n",
    "    fp = sum([cm[j,i] for j in range(0,9) if j != i])\n",
    "    tn = sum([cm[i,j] for j in range(0,9) for i in range(0,6)]) -(tp+fp+fn)\n",
    "    return float(tp + tn)/sum([tp, fn, fp, tn])\n",
    "\n",
    "print class_precision(y_true, y_pred, getLabel(3))"
   ]
  },
  {
   "cell_type": "code",
   "execution_count": 172,
   "metadata": {},
   "outputs": [
    {
     "name": "stdout",
     "output_type": "stream",
     "text": [
      "[0, 0, 0, 1, 0, 0, 0, 0, 0, 0]\n",
      "0.0\n",
      "[0, 0, 0, 1, 0, 0, 0, 0, 0, 0]\n",
      "0.831016219795\n"
     ]
    }
   ],
   "source": [
    "print class_recall(y_true, y_pred, getLabel(3))\n",
    "print class_accuracy(y_true, y_pred, getLabel(3))"
   ]
  },
  {
   "cell_type": "code",
   "execution_count": null,
   "metadata": {},
   "outputs": [],
   "source": []
  }
 ],
 "metadata": {
  "kernelspec": {
   "display_name": "Python 2",
   "language": "python",
   "name": "python2"
  },
  "language_info": {
   "codemirror_mode": {
    "name": "ipython",
    "version": 2
   },
   "file_extension": ".py",
   "mimetype": "text/x-python",
   "name": "python",
   "nbconvert_exporter": "python",
   "pygments_lexer": "ipython2",
   "version": "2.7.14"
  }
 },
 "nbformat": 4,
 "nbformat_minor": 2
}
