{
 "cells": [
  {
   "cell_type": "code",
   "execution_count": 186,
   "metadata": {},
   "outputs": [],
   "source": [
    "import sys\n",
    "\n",
    "req_link = '/usr/local/lib/python2.7/site-packages/'\n",
    "sys.path.append(req_link)\n",
    "\n",
    "from keras import backend as K\n",
    "K.set_image_dim_ordering('th')\n",
    "\n",
    "import numpy as np\n",
    "np.random.seed(123)  # for reproducibility\n",
    "\n",
    "from keras.models import Sequential\n",
    "from keras.layers import Dense, Dropout, Activation, Flatten\n",
    "from keras.layers import Conv2D, MaxPooling2D\n",
    "from keras.utils import np_utils\n",
    "from keras.datasets import mnist\n",
    "from keras.models import model_from_json\n",
    "import glob\n",
    "import cv2\n",
    "\n",
    "def train_model():\n",
    "    # 1. Load pre-shuffled MNIST data into train and test sets\n",
    "    (X_train, y_train), (X_test, y_test) = mnist.load_data()\n",
    "    print (X_train.shape)\n",
    "    # 2. Preprocess input data\n",
    "    X_train = X_train.reshape(X_train.shape[0], 1, 28, 28)\n",
    "    X_test = X_test.reshape(X_test.shape[0], 1, 28, 28)\n",
    "    X_train = X_train.astype('float32')\n",
    "    X_test = X_test.astype('float32')\n",
    "    X_train /= 255\n",
    "    X_test /= 255\n",
    "\n",
    "    # 3. Preprocess class labels\n",
    "    Y_train = np_utils.to_categorical(y_train, 10)\n",
    "    Y_test = np_utils.to_categorical(y_test, 10)\n",
    "\n",
    "    print X_test[0]\n",
    "    # 4. Define model architecture\n",
    "    model = Sequential()\n",
    "\n",
    "    model.add(Conv2D(32, (3, 3), activation='relu', input_shape=(1,28,28)))\n",
    "    model.add(Conv2D(32, (3, 3), activation='relu'))\n",
    "    model.add(MaxPooling2D(pool_size=(2,2)))\n",
    "    model.add(Dropout(0.25))\n",
    "\n",
    "    model.add(Flatten())\n",
    "    model.add(Dense(128, activation='relu'))\n",
    "    model.add(Dropout(0.5))\n",
    "    model.add(Dense(10, activation='softmax'))\n",
    "\n",
    "    # 5. Compile model\n",
    "    model.compile(loss='categorical_crossentropy',\n",
    "                  optimizer='adam',\n",
    "                  metrics=['accuracy'])\n",
    "\n",
    "    # 6. Fit model on training data\n",
    "    model.fit(X_train, Y_train, \n",
    "              batch_size=32, epochs=10, verbose=1)\n",
    "\n",
    "    # 7. serialize model to JSON\n",
    "    model_json = model.to_json()\n",
    "    with open(\"model.json\", \"w\") as json_file:\n",
    "        json_file.write(model_json)\n",
    "\n",
    "    # 8. serialize weights to HDF5\n",
    "    model.save_weights(\"model.h5\", overwrite=True)\n",
    "    print(\"Saved model to disk\")\n",
    "    print (\"hi\")\n",
    "    return model"
   ]
  },
  {
   "cell_type": "code",
   "execution_count": 184,
   "metadata": {
    "scrolled": true
   },
   "outputs": [],
   "source": [
    "def load_model():\n",
    "    # 9. load json and create model\n",
    "    json_file = open('model.json', 'r')\n",
    "    loadmodel = json_file.read()\n",
    "    json_file.close()\n",
    "    model = model_from_json(loadmodel)\n",
    "\n",
    "    # 10. load weights into new model\n",
    "    model.load_weights(\"model.h5\")\n",
    "    print(\"Loaded model from disk\") \n",
    "\n",
    "    # 11. Compile model\n",
    "    model.compile(loss='categorical_crossentropy',\n",
    "                  optimizer='adam',\n",
    "                  metrics=['accuracy'])\n",
    "\n",
    "    print(\"Compiled loaded model\") \n",
    "    \n",
    "    # 11. Evaluate model on test data\n",
    "    score = model.evaluate(X_test, Y_test, verbose=0)\n",
    "    print score\n",
    "    print('Test loss:', score[0])\n",
    "    print('Test accuracy:', score[1])\n",
    "    return model"
   ]
  },
  {
   "cell_type": "code",
   "execution_count": 196,
   "metadata": {},
   "outputs": [],
   "source": [
    "# 12. predict\n",
    "\n",
    "def processImage(path):\n",
    "    x = cv2.imread(path)\n",
    "    x = cv2.resize(x,(28, 28))\n",
    "    x = cv2.cvtColor(x, cv2.COLOR_BGR2GRAY)\n",
    "    x = x.reshape(1, 1, 28, 28)\n",
    "    x = x.astype('float32')\n",
    "    x /= 255\n",
    "    return x\n",
    "\n",
    "\n",
    "def getLabel(label):\n",
    "    \n",
    "    pattern = ([0]*label)+[1]+([0]*(9-label))\n",
    "    print pattern\n",
    "    label = np.array(pattern) \n",
    "    \n",
    "    label = label.reshape(1, 10)\n",
    "    return label\n",
    "\n",
    "def predict(image, label, model):\n",
    "    \n",
    "    label = getLabel(label)\n",
    "    \n",
    "    score = model.evaluate(image, label, verbose=0)\n",
    "    pred_array = model.predict(image)\n",
    "    pred_class = model.predict_classes(image)\n",
    "\n",
    "    prediction = (score, pred_array, pred_class)\n",
    "    \n",
    "    return prediction\n",
    "\n",
    "def select(number):\n",
    "    try:\n",
    "        x = processImage(str(number)+\".png\")\n",
    "    except:\n",
    "        x = processImage(str(number)+\".jpeg\")\n",
    "    return x"
   ]
  },
  {
   "cell_type": "code",
   "execution_count": 191,
   "metadata": {},
   "outputs": [
    {
     "name": "stdout",
     "output_type": "stream",
     "text": [
      "Loaded model from disk\n",
      "Compiled loaded model\n",
      "[0.027639551383534036, 0.99209999999999998]\n",
      "('Test loss:', 0.027639551383534036)\n",
      "('Test accuracy:', 0.99209999999999998)\n"
     ]
    }
   ],
   "source": [
    "from pprint import pprint\n",
    "model = load_model()"
   ]
  },
  {
   "cell_type": "code",
   "execution_count": 200,
   "metadata": {},
   "outputs": [
    {
     "name": "stdout",
     "output_type": "stream",
     "text": [
      "[0, 0, 0, 0, 0, 0, 1, 0, 0, 0]\n",
      "([0.25391355156898499, 1.0],\n",
      " array([[  1.72687009e-01,   2.10482700e-04,   1.10050347e-02,\n",
      "          3.74921062e-03,   1.04158198e-05,   2.71610711e-02,\n",
      "          7.75758862e-01,   8.58668227e-06,   9.15566180e-03,\n",
      "          2.53619597e-04]], dtype=float32),\n",
      " array([6]))\n"
     ]
    }
   ],
   "source": [
    "pprint (predict(select(\"six\"), 6, model))"
   ]
  },
  {
   "cell_type": "code",
   "execution_count": null,
   "metadata": {},
   "outputs": [],
   "source": []
  }
 ],
 "metadata": {
  "kernelspec": {
   "display_name": "Python 2",
   "language": "python",
   "name": "python2"
  }
 },
 "nbformat": 4,
 "nbformat_minor": 2
}
